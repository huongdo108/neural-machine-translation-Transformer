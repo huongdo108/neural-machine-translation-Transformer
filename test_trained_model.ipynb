{
 "cells": [
  {
   "cell_type": "code",
   "execution_count": 9,
   "metadata": {
    "ExecuteTime": {
     "end_time": "2020-08-23T14:15:20.125012Z",
     "start_time": "2020-08-23T14:15:20.122041Z"
    }
   },
   "outputs": [],
   "source": [
    "import torch\n",
    "import tools\n",
    "from tools import translate\n",
    "from model import Encoder, Decoder\n",
    "from data import TranslationDataset, SOS_token, EOS_token, MAX_LENGTH, collate\n",
    "import numpy as np"
   ]
  },
  {
   "cell_type": "code",
   "execution_count": 2,
   "metadata": {
    "ExecuteTime": {
     "end_time": "2020-08-23T14:11:10.626989Z",
     "start_time": "2020-08-23T14:11:10.624019Z"
    }
   },
   "outputs": [],
   "source": [
    "device = torch.device('cpu')"
   ]
  },
  {
   "cell_type": "code",
   "execution_count": 6,
   "metadata": {
    "ExecuteTime": {
     "end_time": "2020-08-23T14:13:11.164922Z",
     "start_time": "2020-08-23T14:13:11.134874Z"
    }
   },
   "outputs": [
    {
     "name": "stdout",
     "output_type": "stream",
     "text": [
      "The data directory is ../data\n"
     ]
    }
   ],
   "source": [
    "data_dir = tools.select_data_dir()\n",
    "trainset = TranslationDataset(data_dir, train=True)\n",
    "testset = TranslationDataset(data_dir, train=False)"
   ]
  },
  {
   "cell_type": "code",
   "execution_count": 7,
   "metadata": {
    "ExecuteTime": {
     "end_time": "2020-08-23T14:13:14.456045Z",
     "start_time": "2020-08-23T14:13:14.356946Z"
    }
   },
   "outputs": [
    {
     "name": "stdout",
     "output_type": "stream",
     "text": [
      "Model loaded from 6_tr_encoder.pth.\n",
      "Model loaded from 6_tr_decoder.pth.\n"
     ]
    }
   ],
   "source": [
    "encoder = Encoder(src_vocab_size=trainset.input_lang.n_words, n_blocks=3, n_features=256, n_heads=16, n_hidden=1024)\n",
    "tools.load_model(encoder, '6_tr_encoder.pth', device)\n",
    "\n",
    "decoder = Decoder(tgt_vocab_size=trainset.output_lang.n_words, n_blocks=3, n_features=256, n_heads=16, n_hidden=1024)\n",
    "tools.load_model(decoder, '6_tr_decoder.pth', device)"
   ]
  },
  {
   "cell_type": "code",
   "execution_count": 13,
   "metadata": {
    "ExecuteTime": {
     "end_time": "2020-08-23T14:15:48.504005Z",
     "start_time": "2020-08-23T14:15:48.280004Z"
    }
   },
   "outputs": [
    {
     "name": "stdout",
     "output_type": "stream",
     "text": [
      "Translate test data:\n",
      "-----------------------------\n",
      "> il n est pas idiot . EOS\n",
      "= he is no fool . EOS\n",
      "< he s not stupid . EOS \n",
      "\n",
      "> elles sont toutes deux bonnes . EOS\n",
      "= they are both good . EOS\n",
      "< they are both good . EOS \n",
      "\n",
      "> tu es tout seul . EOS\n",
      "= you re all alone . EOS\n",
      "< you re all alone . EOS \n",
      "\n",
      "> ils font partie de nous . EOS\n",
      "= they re part of us . EOS\n",
      "< they re part of us . EOS \n",
      "\n",
      "> elle est tres fachee apres moi . EOS\n",
      "= she is very annoyed with me . EOS\n",
      "< she s very upset at me . EOS \n",
      "\n"
     ]
    }
   ],
   "source": [
    "print('Translate test data:')\n",
    "print('-----------------------------')\n",
    "for i in range(5):\n",
    "    input_sentence, target_sentence = testset[np.random.choice(len(testset))]\n",
    "    print('>', ' '.join(testset.input_lang.index2word[i.item()] for i in input_sentence))\n",
    "    print('=', ' '.join(testset.output_lang.index2word[i.item()] for i in target_sentence))\n",
    "    output_sentence = translate(encoder, decoder, input_sentence)\n",
    "    print('<', ' '.join(testset.output_lang.index2word[i.item()] for i in output_sentence), '\\n')"
   ]
  },
  {
   "cell_type": "code",
   "execution_count": null,
   "metadata": {},
   "outputs": [],
   "source": []
  }
 ],
 "metadata": {
  "kernelspec": {
   "display_name": "Python 3",
   "language": "python",
   "name": "python3"
  },
  "language_info": {
   "codemirror_mode": {
    "name": "ipython",
    "version": 3
   },
   "file_extension": ".py",
   "mimetype": "text/x-python",
   "name": "python",
   "nbconvert_exporter": "python",
   "pygments_lexer": "ipython3",
   "version": "3.6.5"
  },
  "toc": {
   "base_numbering": 1,
   "nav_menu": {},
   "number_sections": true,
   "sideBar": true,
   "skip_h1_title": false,
   "title_cell": "Table of Contents",
   "title_sidebar": "Contents",
   "toc_cell": false,
   "toc_position": {},
   "toc_section_display": true,
   "toc_window_display": false
  }
 },
 "nbformat": 4,
 "nbformat_minor": 4
}
